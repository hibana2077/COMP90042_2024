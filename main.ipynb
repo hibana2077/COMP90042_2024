{
 "cells": [
  {
   "cell_type": "code",
   "execution_count": 1,
   "metadata": {},
   "outputs": [],
   "source": [
    "import torch\n",
    "from transformers import GPT2Tokenizer, GPT2Model\n",
    "from sklearn.metrics.pairwise import cosine_similarity\n",
    "from sklearn.metrics import multilabel_confusion_matrix\n",
    "from typing import Dict, List, Tuple\n",
    "import numpy as np\n",
    "import re\n",
    "import string\n",
    "import os\n",
    "import json\n",
    "import random\n",
    "import pickle\n",
    "import tqdm"
   ]
  },
  {
   "cell_type": "markdown",
   "metadata": {},
   "source": [
    "# Fact checking system"
   ]
  },
  {
   "cell_type": "markdown",
   "metadata": {},
   "source": [
    "## Data review"
   ]
  },
  {
   "cell_type": "code",
   "execution_count": 2,
   "metadata": {},
   "outputs": [
    {
     "data": {
      "text/plain": [
       "(1208827, dict)"
      ]
     },
     "execution_count": 2,
     "metadata": {},
     "output_type": "execute_result"
    }
   ],
   "source": [
    "evidence_set = json.load(open('./data/evidence.json'))\n",
    "len(evidence_set), type(evidence_set)"
   ]
  },
  {
   "cell_type": "code",
   "execution_count": 3,
   "metadata": {},
   "outputs": [
    {
     "data": {
      "text/plain": [
       "['evidence-0', 'evidence-1', 'evidence-2', 'evidence-3', 'evidence-4']"
      ]
     },
     "execution_count": 3,
     "metadata": {},
     "output_type": "execute_result"
    }
   ],
   "source": [
    "list(evidence_set.keys())[:5]"
   ]
  },
  {
   "cell_type": "code",
   "execution_count": 4,
   "metadata": {},
   "outputs": [
    {
     "data": {
      "text/plain": [
       "'John Bennet Lawes, English entrepreneur and agricultural scientist'"
      ]
     },
     "execution_count": 4,
     "metadata": {},
     "output_type": "execute_result"
    }
   ],
   "source": [
    "evidence_set['evidence-0']"
   ]
  },
  {
   "cell_type": "code",
   "execution_count": 5,
   "metadata": {},
   "outputs": [
    {
     "data": {
      "text/plain": [
       "(1228, dict)"
      ]
     },
     "execution_count": 5,
     "metadata": {},
     "output_type": "execute_result"
    }
   ],
   "source": [
    "train_set = json.load(open('./data/train-claims.json'))\n",
    "len(train_set), type(train_set)"
   ]
  },
  {
   "cell_type": "code",
   "execution_count": 6,
   "metadata": {},
   "outputs": [
    {
     "data": {
      "text/plain": [
       "['claim-1937', 'claim-126', 'claim-2510', 'claim-2021', 'claim-2449']"
      ]
     },
     "execution_count": 6,
     "metadata": {},
     "output_type": "execute_result"
    }
   ],
   "source": [
    "list(train_set.keys())[:5]"
   ]
  },
  {
   "cell_type": "code",
   "execution_count": 7,
   "metadata": {},
   "outputs": [
    {
     "data": {
      "text/plain": [
       "{'claim_text': 'Not only is there no scientific evidence that CO2 is a pollutant, higher CO2 concentrations actually help ecosystems support more plant and animal life.',\n",
       " 'claim_label': 'DISPUTED',\n",
       " 'evidences': ['evidence-442946', 'evidence-1194317', 'evidence-12171']}"
      ]
     },
     "execution_count": 7,
     "metadata": {},
     "output_type": "execute_result"
    }
   ],
   "source": [
    "train_set['claim-1937']"
   ]
  },
  {
   "cell_type": "markdown",
   "metadata": {},
   "source": [
    "- claim_text: the text of the claim\n",
    "- claim_label: {SUPPORTS, REFUTES, NOT ENOUGH INFO, DISPUTED}\n",
    "- evidence: a list of evidence documents and the sentence index in those documents"
   ]
  },
  {
   "cell_type": "markdown",
   "metadata": {},
   "source": [
    "## Task\n",
    "\n",
    "1. Using Model to find the most relevant evidence to the claim.\n",
    "2. Using Language Model to classify the claim_label."
   ]
  },
  {
   "cell_type": "markdown",
   "metadata": {},
   "source": [
    "### 1. Vectorization"
   ]
  },
  {
   "cell_type": "code",
   "execution_count": 8,
   "metadata": {},
   "outputs": [
    {
     "name": "stderr",
     "output_type": "stream",
     "text": [
      "/home/sec513/.local/lib/python3.12/site-packages/transformers/tokenization_utils_base.py:1601: FutureWarning: `clean_up_tokenization_spaces` was not set. It will be set to `True` by default. This behavior will be depracted in transformers v4.45, and will be then set to `False` by default. For more details check this issue: https://github.com/huggingface/transformers/issues/31884\n",
      "  warnings.warn(\n"
     ]
    }
   ],
   "source": [
    "# train a model that can shows relevant evidence for a given claim\n",
    "# tokenizer = AutoTokenizer.from_pretrained(\"state-spaces/mamba-130m-hf\")\n",
    "# tokenizer = AutoTokenizer.from_pretrained(\"facebook/MobileLLM-125M\", use_fast=False)\n",
    "tokenizer = GPT2Tokenizer.from_pretrained('gpt2')\n",
    "tokenizer.pad_token = tokenizer.eos_token"
   ]
  },
  {
   "cell_type": "code",
   "execution_count": 9,
   "metadata": {},
   "outputs": [
    {
     "name": "stdout",
     "output_type": "stream",
     "text": [
      "Max length of evidence: 479\n",
      "Index of Max length of evidence: 358371\n",
      "Total number of evidence: 1208827\n",
      "Total number of claims: 1228\n"
     ]
    }
   ],
   "source": [
    "print(f\"Max length of evidence: {max([len(evidence_set[e].split()) for e in evidence_set])}\")\n",
    "print(f\"Index of Max length of evidence: {np.argmax([len(evidence_set[e].split()) for e in evidence_set])}\")\n",
    "print(f\"Total number of evidence: {len(evidence_set)}\")\n",
    "print(f\"Total number of claims: {len(train_set)}\")"
   ]
  },
  {
   "cell_type": "code",
   "execution_count": 10,
   "metadata": {},
   "outputs": [],
   "source": [
    "# make dataset\n",
    "from torch.utils.data import Dataset, DataLoader\n",
    "# Input: claim, evidence Output: 1 if evidence is relevant to claim, 0 otherwise\n",
    "\n",
    "class EvidenceDataset(Dataset):\n",
    "    def __init__(self, claim_set: Dict[str, str], evidence_set: Dict[str, str], tokenizer, max_length=768):\n",
    "        self.claim_set = claim_set\n",
    "        self.evidence_set = evidence_set\n",
    "        self.tokenizer = tokenizer\n",
    "        self.max_length = max_length\n",
    "        self.claim_keys = list(claim_set.keys())\n",
    "        self.evidence_keys = list(evidence_set.keys())\n",
    "        self.data = []\n",
    "        self.positive_samples = 0\n",
    "        self.negatives_samples = 0\n",
    "        for claim_key in tqdm.tqdm(self.claim_keys):\n",
    "            claim = claim_set[claim_key]\n",
    "            for evidence_key in self.evidence_keys:\n",
    "                evidence = evidence_set[evidence_key]\n",
    "                # self.data.append((claim['claim_text'], evidence, 1 if evidence_key in claim['evidences'] else 0))\n",
    "                if evidence_key in claim['evidences']:\n",
    "                    self.data.append((claim['claim_text'], evidence, 1))\n",
    "                    self.positive_samples += 1\n",
    "                elif self.negatives_samples < self.positive_samples:\n",
    "                    self.data.append((claim['claim_text'], evidence, 0))\n",
    "                    self.negatives_samples += 1\n",
    "        random.shuffle(self.data)\n",
    "    \n",
    "    def __len__(self):\n",
    "        return len(self.data)\n",
    "    \n",
    "    def __getitem__(self, idx):\n",
    "        claim, evidence, label = self.data[idx]\n",
    "        inputs_claim = self.tokenizer(claim, max_length=512, padding=\"max_length\", truncation=True, return_tensors=\"pt\")\n",
    "        inputs_evi = self.tokenizer(evidence, max_length=512, padding=\"max_length\", truncation=True, return_tensors=\"pt\")\n",
    "        inputs = (inputs_claim['input_ids'], inputs_evi['input_ids'])\n",
    "        return inputs, label\n",
    "    \n",
    "    def collate_fn(self, batch):\n",
    "        inputs, labels = zip(*batch)\n",
    "        input_ids_claim, input_ids_evi = zip(*inputs)\n",
    "        input_ids_claim = torch.stack(input_ids_claim)\n",
    "        input_ids_evi = torch.stack(input_ids_evi)\n",
    "        labels = torch.tensor(labels)\n",
    "        return (input_ids_claim, input_ids_evi), labels\n",
    "    \n",
    "    def get_labels(self):\n",
    "        return [b[1] for b in self.data]\n",
    "    \n",
    "    def get_predictions(self, outputs):\n",
    "        return outputs.logits.sigmoid().round().squeeze().tolist()\n",
    "    \n",
    "    def get_predictions_and_labels(self, outputs):\n",
    "        return self.get_predictions(outputs), self.get_labels()\n",
    "    \n",
    "# get one and show shape\n",
    "\n",
    "if os.path.exists('./data/dataset.pkl'):\n",
    "    dataset = pickle.load(open('./data/dataset.pkl', 'rb'))\n",
    "else:\n",
    "    dataset = EvidenceDataset(train_set, evidence_set, tokenizer)\n",
    "    # save dataset\n",
    "    pickle.dump(dataset, open('./data/dataset.pkl', 'wb'))\n",
    "inputs, label = dataset[0]"
   ]
  },
  {
   "cell_type": "code",
   "execution_count": 11,
   "metadata": {},
   "outputs": [
    {
     "name": "stdout",
     "output_type": "stream",
     "text": [
      "Positive samples: 4122 Negative samples: 4122\n"
     ]
    }
   ],
   "source": [
    "print(f\"Positive samples: {dataset.positive_samples} Negative samples: {dataset.negatives_samples}\")"
   ]
  },
  {
   "cell_type": "code",
   "execution_count": 12,
   "metadata": {},
   "outputs": [
    {
     "data": {
      "text/plain": [
       "(torch.Size([1, 512]), torch.Size([1, 512]), 0)"
      ]
     },
     "execution_count": 12,
     "metadata": {},
     "output_type": "execute_result"
    }
   ],
   "source": [
    "inputs[0].shape, inputs[1].shape, label"
   ]
  },
  {
   "cell_type": "code",
   "execution_count": 13,
   "metadata": {},
   "outputs": [
    {
     "data": {
      "text/plain": [
       "torch.Size([1, 1])"
      ]
     },
     "execution_count": 13,
     "metadata": {},
     "output_type": "execute_result"
    }
   ],
   "source": [
    "class RelevantModel(torch.nn.Module):\n",
    "    def __init__(self):\n",
    "        super().__init__()\n",
    "        self.claim_encoder = torch.nn.TransformerEncoderLayer(d_model=512, nhead=8)\n",
    "        self.evidence_encoder = torch.nn.TransformerEncoderLayer(d_model=512, nhead=8)\n",
    "        self.linear = torch.nn.Linear(1024, 1)\n",
    "\n",
    "    def forward(self, claim_input_ids, evidence_input_ids):\n",
    "        claim_output = self.claim_encoder(claim_input_ids)\n",
    "        evidence_output = self.evidence_encoder(evidence_input_ids)\n",
    "        out_score = self.linear(torch.cat((claim_output, evidence_output), dim=1))\n",
    "        return out_score\n",
    "    \n",
    "# test model\n",
    "\n",
    "model = RelevantModel()\n",
    "outputs = model(inputs[0].float(), inputs[1].float())\n",
    "outputs.shape\n"
   ]
  },
  {
   "cell_type": "code",
   "execution_count": 14,
   "metadata": {},
   "outputs": [
    {
     "name": "stdout",
     "output_type": "stream",
     "text": [
      "Epoch 10/10 - batch 17/17 - loss: 0.65589\r"
     ]
    }
   ],
   "source": [
    "# train model\n",
    "from torch.optim import AdamW\n",
    "from torch.nn import BCEWithLogitsLoss\n",
    "from torch.utils.data import DataLoader\n",
    "\n",
    "EPOCHS = 10\n",
    "BATCH_SIZE = 512\n",
    "DEVICE = \"cuda\" if torch.cuda.is_available() else \"cpu\"\n",
    "\n",
    "model = RelevantModel()\n",
    "model.to(DEVICE)\n",
    "optimizer = AdamW(model.parameters(), lr=5e-5)\n",
    "loss_fn = BCEWithLogitsLoss()\n",
    "\n",
    "train_loader = DataLoader(dataset, batch_size=BATCH_SIZE, shuffle=True, collate_fn=dataset.collate_fn)\n",
    "losses = []\n",
    "for epoch in range(EPOCHS):\n",
    "    model.train()\n",
    "    avg_loss = 0\n",
    "    cnt = 0\n",
    "    for batch in train_loader:\n",
    "        inputs, labels = batch\n",
    "        optimizer.zero_grad()\n",
    "        labels = labels.to(DEVICE)\n",
    "        inputs_claim, inputs_evi = inputs\n",
    "        inputs_claim = inputs_claim.to(DEVICE)\n",
    "        inputs_evi = inputs_evi.to(DEVICE)\n",
    "        inputs_claim = inputs_claim.squeeze().float()\n",
    "        inputs_evi = inputs_evi.squeeze().float()\n",
    "        outputs = model(inputs_claim, inputs_evi)\n",
    "        avg_loss += loss_fn(outputs.squeeze(), labels.float()).item()\n",
    "        loss = loss_fn(outputs.squeeze(), labels.float())\n",
    "        loss.backward()\n",
    "        optimizer.step()\n",
    "        cnt += 1\n",
    "        print(f\"Epoch {epoch+1}/{EPOCHS} - batch {cnt}/{len(train_loader)} - loss: {avg_loss/cnt:.5f}\", end=\"\\r\")\n",
    "    losses.append(avg_loss/cnt)\n"
   ]
  },
  {
   "cell_type": "code",
   "execution_count": 15,
   "metadata": {},
   "outputs": [
    {
     "data": {
      "image/png": "[encoded data removed]",
      "text/plain": [
       "<Figure size 640x480 with 1 Axes>"
      ]
     },
     "metadata": {},
     "output_type": "display_data"
    }
   ],
   "source": [
    "# plot loss\n",
    "import matplotlib.pyplot as plt\n",
    "\n",
    "plt.plot(losses)\n",
    "plt.xlabel(\"Epochs\")\n",
    "plt.ylabel(\"Loss\")\n",
    "plt.title(\"Training Loss\")\n",
    "plt.show()"
   ]
  },
  {
   "cell_type": "code",
   "execution_count": 16,
   "metadata": {},
   "outputs": [
    {
     "name": "stdout",
     "output_type": "stream",
     "text": [
      "[[2359 1763]\n",
      " [1344 2778]]\n",
      "              precision    recall  f1-score   support\n",
      "\n",
      "           0       0.64      0.57      0.60      4122\n",
      "           1       0.61      0.67      0.64      4122\n",
      "\n",
      "    accuracy                           0.62      8244\n",
      "   macro avg       0.62      0.62      0.62      8244\n",
      "weighted avg       0.62      0.62      0.62      8244\n",
      "\n"
     ]
    }
   ],
   "source": [
    "# confusion matrix\n",
    "from sklearn.metrics import confusion_matrix, classification_report\n",
    "\n",
    "model.eval()\n",
    "predictions = []\n",
    "labels = []\n",
    "\n",
    "for batch in train_loader:\n",
    "    inputs, label = batch\n",
    "    inputs_claim, inputs_evi = inputs\n",
    "    inputs_claim = inputs_claim.to(DEVICE).squeeze().float()\n",
    "    inputs_evi = inputs_evi.to(DEVICE).squeeze().float()\n",
    "    outputs = model(inputs_claim, inputs_evi)\n",
    "    preds = (outputs.sigmoid().round().squeeze().tolist())\n",
    "    predictions += preds\n",
    "    labels += label\n",
    "\n",
    "cm = confusion_matrix(labels, predictions)\n",
    "print(cm)\n",
    "print(classification_report(labels, predictions))"
   ]
  },
  {
   "cell_type": "markdown",
   "metadata": {},
   "source": [
    "### 2. Language Model\n",
    "\n",
    "- Using Mamba to classify the claim_label."
   ]
  },
  {
   "cell_type": "code",
   "execution_count": 17,
   "metadata": {},
   "outputs": [],
   "source": [
    "# define model\n",
    "import torch.nn as nn\n",
    "import torch.nn.functional as F\n",
    "\n",
    "# class SwiGLU(nn.Module):\n",
    "#     def forward(self, x):\n",
    "#         x, gate = x.chunk(2, dim=-1)\n",
    "#         return F.silu(gate) * x\n",
    "\n",
    "# class ClassifierModelSmall(torch.nn.Module):\n",
    "#     def __init__(self):\n",
    "#         super().__init__()\n",
    "#         self.core = nn.Sequential(\n",
    "#             nn.Linear(768, 4096),\n",
    "#             nn.Dropout(0.1),\n",
    "#             SwiGLU(),\n",
    "#             nn.Linear(2048, 768),\n",
    "#             nn.LayerNorm(768)\n",
    "#         )\n",
    "#         self.linear = torch.nn.Linear(768, 4)\n",
    "    \n",
    "#     def forward(self, input_ids):\n",
    "#         input_ids = input_ids.float()\n",
    "#         outputs = self.core(input_ids)\n",
    "#         return self.linear(outputs)\n",
    "    \n",
    "# test_tensor = torch.randint(0, 48051, (2, 768))\n",
    "# model = ClassifierModelSmall()\n",
    "# outputs = model(test_tensor)\n",
    "# total_params = sum(p.numel() for p in model.parameters())/1e6\n",
    "# outputs.shape, total_params"
   ]
  },
  {
   "cell_type": "code",
   "execution_count": 18,
   "metadata": {},
   "outputs": [
    {
     "data": {
      "text/plain": [
       "(torch.Size([2, 4]), 124.442884)"
      ]
     },
     "execution_count": 18,
     "metadata": {},
     "output_type": "execute_result"
    }
   ],
   "source": [
    "# define small bert model\n",
    "class SmallBertModel(torch.nn.Module):\n",
    "    def __init__(self):\n",
    "        super().__init__()\n",
    "        self.bert = GPT2Model.from_pretrained('gpt2')\n",
    "        self.linear = torch.nn.Linear(768, 4)\n",
    "    \n",
    "    def forward(self, input_ids):\n",
    "        outputs = self.bert(input_ids)\n",
    "        return self.linear(outputs.last_hidden_state[:, 0, :])\n",
    "    \n",
    "test_tensor = torch.randint(0, 48051, (2, 768))\n",
    "model = SmallBertModel()\n",
    "outputs = model(test_tensor)\n",
    "total_params = sum(p.numel() for p in model.parameters())/1e6\n",
    "outputs.shape, total_params"
   ]
  },
  {
   "cell_type": "code",
   "execution_count": 19,
   "metadata": {},
   "outputs": [
    {
     "name": "stderr",
     "output_type": "stream",
     "text": [
      "100%|██████████| 1228/1228 [00:00<00:00, 103811.45it/s]"
     ]
    },
    {
     "name": "stdout",
     "output_type": "stream",
     "text": [
      "Supports: 519 Refutes: 199 Not enough info: 386 Disputed: 124\n"
     ]
    },
    {
     "name": "stderr",
     "output_type": "stream",
     "text": [
      "\n"
     ]
    },
    {
     "data": {
      "text/plain": [
       "(torch.Size([1, 768]), array([1, 0, 0, 0]))"
      ]
     },
     "execution_count": 19,
     "metadata": {},
     "output_type": "execute_result"
    }
   ],
   "source": [
    "# make dataset (input: claim+evidence, output: label)\n",
    "class ClassifierDataset(Dataset):\n",
    "    def __init__(self, claim_set: Dict[str, str], evidence_set: Dict[str, str], tokenizer, max_length=768):\n",
    "        self.claim_set = claim_set\n",
    "        self.evidence_set = evidence_set\n",
    "        self.tokenizer = tokenizer\n",
    "        self.max_length = max_length\n",
    "        self.claim_keys = list(claim_set.keys())\n",
    "        self.evidence_keys = list(evidence_set.keys())\n",
    "        self.data = []\n",
    "        self.max_token = 0\n",
    "        # - claim_label: {SUPPORTS, REFUTES, NOT ENOUGH INFO, DISPUTED}\n",
    "        self.labels_map = {\"SUPPORTS\": 0, \"REFUTES\": 1, \"NOT_ENOUGH_INFO\": 2, \"DISPUTED\": 3}\n",
    "        self.labels_count = {\"SUPPORTS\": 0, \"REFUTES\": 0, \"NOT_ENOUGH_INFO\": 0, \"DISPUTED\": 0}\n",
    "        for claim_key in tqdm.tqdm(self.claim_keys):\n",
    "            claim = claim_set[claim_key]\n",
    "            evidence_list = claim['evidences']\n",
    "            temp_evidence = []\n",
    "            for evidence_key in evidence_list:\n",
    "                temp_evidence.append(evidence_set[evidence_key])\n",
    "            temp_evidence = \" \".join(temp_evidence)\n",
    "            self.data.append((claim['claim_text'], temp_evidence, self.labels_map[claim['claim_label']]))\n",
    "            self.labels_count[claim['claim_label']] += 1\n",
    "        random.shuffle(self.data)\n",
    "\n",
    "    def __len__(self):\n",
    "        return len(self.data)\n",
    "    \n",
    "    def __getitem__(self, idx):\n",
    "        claim, evidence, label = self.data[idx]\n",
    "        inputs = self.tokenizer(claim, evidence, max_length=self.max_length, padding=\"max_length\", truncation=True, return_tensors=\"pt\")\n",
    "        temp_max_token = torch.max(inputs['input_ids'])\n",
    "        if temp_max_token > self.max_token:\n",
    "            self.max_token = temp_max_token\n",
    "        # label to one-hot\n",
    "        label = torch.nn.functional.one_hot(torch.tensor(label), num_classes=4)\n",
    "        # convert to np array\n",
    "        label = label.numpy()\n",
    "        return inputs, label\n",
    "    \n",
    "    def collate_fn(self, batch):\n",
    "        inputs, labels = zip(*batch)\n",
    "        input_ids = [i['input_ids'] for i in inputs]\n",
    "        input_ids = torch.stack(input_ids)\n",
    "        labels = torch.tensor(labels)\n",
    "        return input_ids, labels\n",
    "    \n",
    "    def get_labels(self):\n",
    "        return [b[1] for b in self.data]\n",
    "    \n",
    "    def get_predictions(self, outputs):\n",
    "        return outputs.logits.argmax(dim=1).squeeze().tolist()\n",
    "    \n",
    "    def get_predictions_and_labels(self, outputs):\n",
    "        return self.get_predictions(outputs), self.get_labels()\n",
    "    \n",
    "# get one and show shape\n",
    "dataset = ClassifierDataset(train_set, evidence_set, tokenizer)\n",
    "inputs, label = dataset[0]\n",
    "print(f\"Supports: {dataset.labels_count['SUPPORTS']} Refutes: {dataset.labels_count['REFUTES']} Not enough info: {dataset.labels_count['NOT_ENOUGH_INFO']} Disputed: {dataset.labels_count['DISPUTED']}\")\n",
    "inputs['input_ids'].shape, label"
   ]
  },
  {
   "cell_type": "code",
   "execution_count": 20,
   "metadata": {},
   "outputs": [
    {
     "data": {
      "text/plain": [
       "(tensor(50256), 768)"
      ]
     },
     "execution_count": 20,
     "metadata": {},
     "output_type": "execute_result"
    }
   ],
   "source": [
    "dataset.max_token , dataset.max_length"
   ]
  },
  {
   "cell_type": "code",
   "execution_count": 38,
   "metadata": {},
   "outputs": [
    {
     "data": {
      "image/png": "[encoded data removed]",
      "text/plain": [
       "<Figure size 640x480 with 1 Axes>"
      ]
     },
     "metadata": {},
     "output_type": "display_data"
    }
   ],
   "source": [
    "# print(f\"Supports: {dataset.labels_count['SUPPORTS']} Refutes: {dataset.labels_count['REFUTES']} Not enough info: {dataset.labels_count['NOT_ENOUGH_INFO']} Disputed: {dataset.labels_count['DISPUTED']}\")\n",
    "# plot distribution\n",
    "plt.bar(dataset.labels_count.keys(), dataset.labels_count.values())\n",
    "plt.xlabel(\"Labels\")\n",
    "plt.ylabel(\"Counts\")\n",
    "plt.title(\"Label Distribution\")\n",
    "plt.show()"
   ]
  },
  {
   "cell_type": "code",
   "execution_count": 21,
   "metadata": {},
   "outputs": [
    {
     "name": "stderr",
     "output_type": "stream",
     "text": [
      "/tmp/ipykernel_301916/2645981716.py:45: UserWarning: Creating a tensor from a list of numpy.ndarrays is extremely slow. Please consider converting the list to a single numpy.ndarray with numpy.array() before converting to a tensor. (Triggered internally at ../torch/csrc/utils/tensor_new.cpp:274.)\n",
      "  labels = torch.tensor(labels)\n"
     ]
    },
    {
     "name": "stdout",
     "output_type": "stream",
     "text": [
      "Epoch 1/10 - batch 334/614 - loss: 1.39209                                            \r"
     ]
    },
    {
     "name": "stderr",
     "output_type": "stream",
     "text": [
      "Be aware, overflowing tokens are not returned for the setting you have chosen, i.e. sequence pairs with the 'longest_first' truncation strategy. So the returned list will always be empty even if some tokens have been removed.\n"
     ]
    },
    {
     "name": "stdout",
     "output_type": "stream",
     "text": [
      "Epoch 2/10 - batch 518/614 - loss: 1.28596                                            \r"
     ]
    },
    {
     "name": "stderr",
     "output_type": "stream",
     "text": [
      "Be aware, overflowing tokens are not returned for the setting you have chosen, i.e. sequence pairs with the 'longest_first' truncation strategy. So the returned list will always be empty even if some tokens have been removed.\n"
     ]
    },
    {
     "name": "stdout",
     "output_type": "stream",
     "text": [
      "Epoch 3/10 - batch 202/614 - loss: 1.25856                                            \r"
     ]
    },
    {
     "name": "stderr",
     "output_type": "stream",
     "text": [
      "Be aware, overflowing tokens are not returned for the setting you have chosen, i.e. sequence pairs with the 'longest_first' truncation strategy. So the returned list will always be empty even if some tokens have been removed.\n"
     ]
    },
    {
     "name": "stdout",
     "output_type": "stream",
     "text": [
      "Epoch 4/10 - batch 392/614 - loss: 1.22117                                            \r"
     ]
    },
    {
     "name": "stderr",
     "output_type": "stream",
     "text": [
      "Be aware, overflowing tokens are not returned for the setting you have chosen, i.e. sequence pairs with the 'longest_first' truncation strategy. So the returned list will always be empty even if some tokens have been removed.\n"
     ]
    },
    {
     "name": "stdout",
     "output_type": "stream",
     "text": [
      "Epoch 5/10 - batch 30/614 - loss: 1.13997                                             \r"
     ]
    },
    {
     "name": "stderr",
     "output_type": "stream",
     "text": [
      "Be aware, overflowing tokens are not returned for the setting you have chosen, i.e. sequence pairs with the 'longest_first' truncation strategy. So the returned list will always be empty even if some tokens have been removed.\n"
     ]
    },
    {
     "name": "stdout",
     "output_type": "stream",
     "text": [
      "Epoch 6/10 - batch 348/614 - loss: 1.18909                                            \r"
     ]
    },
    {
     "name": "stderr",
     "output_type": "stream",
     "text": [
      "Be aware, overflowing tokens are not returned for the setting you have chosen, i.e. sequence pairs with the 'longest_first' truncation strategy. So the returned list will always be empty even if some tokens have been removed.\n"
     ]
    },
    {
     "name": "stdout",
     "output_type": "stream",
     "text": [
      "Epoch 7/10 - batch 400/614 - loss: 1.10845                                            \r"
     ]
    },
    {
     "name": "stderr",
     "output_type": "stream",
     "text": [
      "Be aware, overflowing tokens are not returned for the setting you have chosen, i.e. sequence pairs with the 'longest_first' truncation strategy. So the returned list will always be empty even if some tokens have been removed.\n"
     ]
    },
    {
     "name": "stdout",
     "output_type": "stream",
     "text": [
      "Epoch 8/10 - batch 238/614 - loss: 1.07510                                            \r"
     ]
    },
    {
     "name": "stderr",
     "output_type": "stream",
     "text": [
      "Be aware, overflowing tokens are not returned for the setting you have chosen, i.e. sequence pairs with the 'longest_first' truncation strategy. So the returned list will always be empty even if some tokens have been removed.\n"
     ]
    },
    {
     "name": "stdout",
     "output_type": "stream",
     "text": [
      "Epoch 9/10 - batch 198/614 - loss: 0.95978                                            \r"
     ]
    },
    {
     "name": "stderr",
     "output_type": "stream",
     "text": [
      "Be aware, overflowing tokens are not returned for the setting you have chosen, i.e. sequence pairs with the 'longest_first' truncation strategy. So the returned list will always be empty even if some tokens have been removed.\n"
     ]
    },
    {
     "name": "stdout",
     "output_type": "stream",
     "text": [
      "Epoch 10/10 - batch 548/614 - loss: 1.03135                                           \r"
     ]
    },
    {
     "name": "stderr",
     "output_type": "stream",
     "text": [
      "Be aware, overflowing tokens are not returned for the setting you have chosen, i.e. sequence pairs with the 'longest_first' truncation strategy. So the returned list will always be empty even if some tokens have been removed.\n"
     ]
    },
    {
     "name": "stdout",
     "output_type": "stream",
     "text": [
      "Epoch 10/10 - batch 614/614 - loss: 1.01993                                           \r"
     ]
    }
   ],
   "source": [
    "# clearup cuda memory\n",
    "torch.cuda.empty_cache()\n",
    "# train model\n",
    "EPOCHS = 10\n",
    "BATCH_SIZE = 2\n",
    "DEVICE = \"cuda\" if torch.cuda.is_available() else \"cpu\"\n",
    "\n",
    "model = SmallBertModel()\n",
    "model.to(DEVICE)\n",
    "optimizer = AdamW(model.parameters(), lr=4e-5)\n",
    "loss_fn = torch.nn.CrossEntropyLoss()\n",
    "\n",
    "train_loader = DataLoader(dataset, batch_size=BATCH_SIZE, shuffle=True, collate_fn=dataset.collate_fn)\n",
    "losses = []\n",
    "for epoch in range(EPOCHS):\n",
    "    model.train()\n",
    "    avg_loss = 0\n",
    "    cnt = 0\n",
    "    for batch in train_loader:\n",
    "        inputs, labels = batch\n",
    "        optimizer.zero_grad()\n",
    "        labels = labels.to(DEVICE)\n",
    "        labels = labels.float()\n",
    "        inputs = inputs.to(DEVICE)\n",
    "        inputs = inputs.squeeze(1)  # Ensure the correct dimensions\n",
    "        outputs = model(inputs)\n",
    "        avg_loss += loss_fn(outputs, labels).item()\n",
    "        loss = loss_fn(outputs, labels)\n",
    "        loss.backward()\n",
    "        optimizer.step()\n",
    "        cnt += 1\n",
    "        print(\"                                                                                      \", end=\"\\r\")\n",
    "        print(f\"Epoch {epoch+1}/{EPOCHS} - batch {cnt}/{len(train_loader)} - loss: {avg_loss/cnt:.5f}\", end=\"\\r\")\n",
    "    losses.append(avg_loss/cnt)"
   ]
  },
  {
   "cell_type": "code",
   "execution_count": 22,
   "metadata": {},
   "outputs": [
    {
     "data": {
      "image/png": "[encoded data removed]",
      "text/plain": [
       "<Figure size 640x480 with 1 Axes>"
      ]
     },
     "metadata": {},
     "output_type": "display_data"
    }
   ],
   "source": [
    "# plot loss\n",
    "plt.plot(losses)\n",
    "plt.xlabel(\"Epochs\")\n",
    "plt.ylabel(\"Loss\")\n",
    "plt.title(\"Training Loss\")\n",
    "plt.show()"
   ]
  },
  {
   "cell_type": "code",
   "execution_count": 32,
   "metadata": {},
   "outputs": [
    {
     "name": "stderr",
     "output_type": "stream",
     "text": [
      "Be aware, overflowing tokens are not returned for the setting you have chosen, i.e. sequence pairs with the 'longest_first' truncation strategy. So the returned list will always be empty even if some tokens have been removed.\n"
     ]
    }
   ],
   "source": [
    "# confusion matrix\n",
    "model.eval()\n",
    "predictions = []\n",
    "labels = []\n",
    "\n",
    "for batch in train_loader:\n",
    "    inputs, label = batch\n",
    "    inputs = inputs.to(DEVICE)\n",
    "    outputs = model(inputs)\n",
    "    preds = (outputs.argmax(dim=1).squeeze().tolist())\n",
    "    predictions += preds\n",
    "    label = label.argmax(dim=1).squeeze().tolist()\n",
    "    labels += label"
   ]
  },
  {
   "cell_type": "code",
   "execution_count": 37,
   "metadata": {},
   "outputs": [
    {
     "name": "stdout",
     "output_type": "stream",
     "text": [
      "[[140  26 260  93]\n",
      " [ 51   0 101  47]\n",
      " [201  55  88  42]\n",
      " [ 34   7  78   5]]\n",
      "              precision    recall  f1-score   support\n",
      "\n",
      "           0       0.33      0.27      0.30       519\n",
      "           1       0.00      0.00      0.00       199\n",
      "           2       0.17      0.23      0.19       386\n",
      "           3       0.03      0.04      0.03       124\n",
      "\n",
      "    accuracy                           0.19      1228\n",
      "   macro avg       0.13      0.13      0.13      1228\n",
      "weighted avg       0.19      0.19      0.19      1228\n",
      "\n"
     ]
    }
   ],
   "source": [
    "cm = confusion_matrix(labels, np.argmax(predictions, axis=1))\n",
    "print(cm)\n",
    "print(classification_report(labels, np.argmax(predictions, axis=1)))"
   ]
  },
  {
   "cell_type": "code",
   "execution_count": 39,
   "metadata": {},
   "outputs": [
    {
     "data": {
      "text/plain": [
       "(154, dict)"
      ]
     },
     "execution_count": 39,
     "metadata": {},
     "output_type": "execute_result"
    }
   ],
   "source": [
    "# dev\n",
    "dev_set = json.load(open('./data/dev-claims-baseline.json'))\n",
    "len(dev_set), type(dev_set)"
   ]
  },
  {
   "cell_type": "code",
   "execution_count": 44,
   "metadata": {},
   "outputs": [
    {
     "name": "stderr",
     "output_type": "stream",
     "text": [
      "100%|██████████| 154/154 [00:00<00:00, 270827.18it/s]\n"
     ]
    },
    {
     "data": {
      "text/plain": [
       "(torch.Size([1, 768]), array([0, 1, 0, 0]))"
      ]
     },
     "execution_count": 44,
     "metadata": {},
     "output_type": "execute_result"
    }
   ],
   "source": [
    "# make dataset\n",
    "dev_dataset = ClassifierDataset(dev_set, evidence_set, tokenizer)\n",
    "inputs, label = dev_dataset[0]\n",
    "inputs['input_ids'].shape, label"
   ]
  },
  {
   "cell_type": "code",
   "execution_count": 45,
   "metadata": {},
   "outputs": [],
   "source": [
    "# inference\n",
    "dev_loader = DataLoader(dev_dataset, batch_size=BATCH_SIZE, shuffle=False, collate_fn=dev_dataset.collate_fn)\n",
    "model.eval()\n",
    "predictions = []\n",
    "\n",
    "for batch in dev_loader:\n",
    "    inputs, label = batch\n",
    "    inputs = inputs.to(DEVICE)\n",
    "    outputs = model(inputs)\n",
    "    preds = (outputs.argmax(dim=1).squeeze().tolist())\n",
    "    predictions += preds"
   ]
  },
  {
   "cell_type": "code",
   "execution_count": 47,
   "metadata": {},
   "outputs": [],
   "source": [
    "predictions = np.argmax(predictions, axis=1)"
   ]
  },
  {
   "cell_type": "code",
   "execution_count": 50,
   "metadata": {},
   "outputs": [],
   "source": [
    "label_map = {0: \"SUPPORTS\", 1: \"REFUTES\", 2: \"NOT_ENOUGH_INFO\", 3: \"DISPUTED\"}"
   ]
  },
  {
   "cell_type": "code",
   "execution_count": 51,
   "metadata": {},
   "outputs": [],
   "source": [
    "# write to file\n",
    "with open('./data/dev-claims-baseline_my.json', 'w') as f:\n",
    "    for i, claim_key in enumerate(dev_set):\n",
    "        dev_set[claim_key]['claim_label'] = label_map[predictions[i]]\n",
    "    json.dump(dev_set, f)"
   ]
  }
 ],
 "metadata": {
  "kernelspec": {
   "display_name": "Python 3",
   "language": "python",
   "name": "python3"
  },
  "language_info": {
   "codemirror_mode": {
    "name": "ipython",
    "version": 3
   },
   "file_extension": ".py",
   "mimetype": "text/x-python",
   "name": "python",
   "nbconvert_exporter": "python",
   "pygments_lexer": "ipython3",
   "version": "3.12.3"
  }
 },
 "nbformat": 4,
 "nbformat_minor": 2
}
