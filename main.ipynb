{
 "cells": [
  {
   "cell_type": "code",
   "execution_count": 1,
   "metadata": {},
   "outputs": [],
   "source": [
    "import torch\n",
    "from transformers import GPT2Tokenizer, GPT2Model\n",
    "from sklearn.metrics.pairwise import cosine_similarity\n",
    "from sklearn.metrics import multilabel_confusion_matrix\n",
    "from typing import Dict, List, Tuple\n",
    "import numpy as np\n",
    "import re\n",
    "import string\n",
    "import os\n",
    "import json\n",
    "import random\n",
    "import pickle\n",
    "import tqdm"
   ]
  },
  {
   "cell_type": "markdown",
   "metadata": {},
   "source": [
    "# Fact checking system"
   ]
  },
  {
   "cell_type": "markdown",
   "metadata": {},
   "source": [
    "## Data review"
   ]
  },
  {
   "cell_type": "code",
   "execution_count": 2,
   "metadata": {},
   "outputs": [
    {
     "data": {
      "text/plain": [
       "(1208827, dict)"
      ]
     },
     "execution_count": 2,
     "metadata": {},
     "output_type": "execute_result"
    }
   ],
   "source": [
    "evidence_set = json.load(open('./data/evidence.json'))\n",
    "len(evidence_set), type(evidence_set)"
   ]
  },
  {
   "cell_type": "code",
   "execution_count": 3,
   "metadata": {},
   "outputs": [
    {
     "data": {
      "text/plain": [
       "['evidence-0', 'evidence-1', 'evidence-2', 'evidence-3', 'evidence-4']"
      ]
     },
     "execution_count": 3,
     "metadata": {},
     "output_type": "execute_result"
    }
   ],
   "source": [
    "list(evidence_set.keys())[:5]"
   ]
  },
  {
   "cell_type": "code",
   "execution_count": 4,
   "metadata": {},
   "outputs": [
    {
     "data": {
      "text/plain": [
       "'John Bennet Lawes, English entrepreneur and agricultural scientist'"
      ]
     },
     "execution_count": 4,
     "metadata": {},
     "output_type": "execute_result"
    }
   ],
   "source": [
    "evidence_set['evidence-0']"
   ]
  },
  {
   "cell_type": "code",
   "execution_count": 5,
   "metadata": {},
   "outputs": [
    {
     "data": {
      "text/plain": [
       "(1228, dict)"
      ]
     },
     "execution_count": 5,
     "metadata": {},
     "output_type": "execute_result"
    }
   ],
   "source": [
    "train_set = json.load(open('./data/train-claims.json'))\n",
    "len(train_set), type(train_set)"
   ]
  },
  {
   "cell_type": "code",
   "execution_count": 6,
   "metadata": {},
   "outputs": [
    {
     "data": {
      "text/plain": [
       "['claim-1937', 'claim-126', 'claim-2510', 'claim-2021', 'claim-2449']"
      ]
     },
     "execution_count": 6,
     "metadata": {},
     "output_type": "execute_result"
    }
   ],
   "source": [
    "list(train_set.keys())[:5]"
   ]
  },
  {
   "cell_type": "code",
   "execution_count": 7,
   "metadata": {},
   "outputs": [
    {
     "data": {
      "text/plain": [
       "{'claim_text': 'Not only is there no scientific evidence that CO2 is a pollutant, higher CO2 concentrations actually help ecosystems support more plant and animal life.',\n",
       " 'claim_label': 'DISPUTED',\n",
       " 'evidences': ['evidence-442946', 'evidence-1194317', 'evidence-12171']}"
      ]
     },
     "execution_count": 7,
     "metadata": {},
     "output_type": "execute_result"
    }
   ],
   "source": [
    "train_set['claim-1937']"
   ]
  },
  {
   "cell_type": "markdown",
   "metadata": {},
   "source": [
    "- claim_text: the text of the claim\n",
    "- claim_label: {SUPPORTS, REFUTES, NOT ENOUGH INFO, DISPUTED}\n",
    "- evidence: a list of evidence documents and the sentence index in those documents"
   ]
  },
  {
   "cell_type": "markdown",
   "metadata": {},
   "source": [
    "## Task\n",
    "\n",
    "1. Using vectorization to find the similarity between the claim and the evidence.\n",
    "2. Using Language Model to classify the claim_label."
   ]
  },
  {
   "cell_type": "markdown",
   "metadata": {},
   "source": [
    "### 1. Vectorization"
   ]
  },
  {
   "cell_type": "code",
   "execution_count": null,
   "metadata": {},
   "outputs": [
    {
     "name": "stderr",
     "output_type": "stream",
     "text": [
      "/home/sec513/.local/lib/python3.12/site-packages/transformers/tokenization_utils_base.py:1601: FutureWarning: `clean_up_tokenization_spaces` was not set. It will be set to `True` by default. This behavior will be depracted in transformers v4.45, and will be then set to `False` by default. For more details check this issue: https://github.com/huggingface/transformers/issues/31884\n",
      "  warnings.warn(\n"
     ]
    }
   ],
   "source": [
    "# train a model that can shows relevant evidence for a given claim\n",
    "# tokenizer = AutoTokenizer.from_pretrained(\"state-spaces/mamba-130m-hf\")\n",
    "# tokenizer = AutoTokenizer.from_pretrained(\"facebook/MobileLLM-125M\", use_fast=False)\n",
    "tokenizer = GPT2Tokenizer.from_pretrained('gpt2')\n",
    "tokenizer.pad_token = tokenizer.eos_token"
   ]
  },
  {
   "cell_type": "code",
   "execution_count": 9,
   "metadata": {},
   "outputs": [
    {
     "name": "stdout",
     "output_type": "stream",
     "text": [
      "Max length of evidence: 479\n",
      "Index of Max length of evidence: 358371\n",
      "Total number of evidence: 1208827\n",
      "Total number of claims: 1228\n"
     ]
    }
   ],
   "source": [
    "print(f\"Max length of evidence: {max([len(evidence_set[e].split()) for e in evidence_set])}\")\n",
    "print(f\"Index of Max length of evidence: {np.argmax([len(evidence_set[e].split()) for e in evidence_set])}\")\n",
    "print(f\"Total number of evidence: {len(evidence_set)}\")\n",
    "print(f\"Total number of claims: {len(train_set)}\")"
   ]
  },
  {
   "cell_type": "code",
   "execution_count": 10,
   "metadata": {},
   "outputs": [],
   "source": [
    "# make dataset\n",
    "from torch.utils.data import Dataset, DataLoader\n",
    "# Input: claim, evidence Output: 1 if evidence is relevant to claim, 0 otherwise\n",
    "\n",
    "class EvidenceDataset(Dataset):\n",
    "    def __init__(self, claim_set: Dict[str, str], evidence_set: Dict[str, str], tokenizer, max_length=768):\n",
    "        self.claim_set = claim_set\n",
    "        self.evidence_set = evidence_set\n",
    "        self.tokenizer = tokenizer\n",
    "        self.max_length = max_length\n",
    "        self.claim_keys = list(claim_set.keys())\n",
    "        self.evidence_keys = list(evidence_set.keys())\n",
    "        self.data = []\n",
    "        self.positive_samples = 0\n",
    "        self.negatives_samples = 0\n",
    "        for claim_key in tqdm.tqdm(self.claim_keys):\n",
    "            claim = claim_set[claim_key]\n",
    "            for evidence_key in self.evidence_keys:\n",
    "                evidence = evidence_set[evidence_key]\n",
    "                # self.data.append((claim['claim_text'], evidence, 1 if evidence_key in claim['evidences'] else 0))\n",
    "                if evidence_key in claim['evidences']:\n",
    "                    self.data.append((claim['claim_text'], evidence, 1))\n",
    "                    self.positive_samples += 1\n",
    "                elif self.negatives_samples < self.positive_samples:\n",
    "                    self.data.append((claim['claim_text'], evidence, 0))\n",
    "                    self.negatives_samples += 1\n",
    "        random.shuffle(self.data)\n",
    "    \n",
    "    def __len__(self):\n",
    "        return len(self.data)\n",
    "    \n",
    "    def __getitem__(self, idx):\n",
    "        claim, evidence, label = self.data[idx]\n",
    "        inputs_claim = self.tokenizer(claim, max_length=512, padding=\"max_length\", truncation=True, return_tensors=\"pt\")\n",
    "        inputs_evi = self.tokenizer(evidence, max_length=512, padding=\"max_length\", truncation=True, return_tensors=\"pt\")\n",
    "        inputs = (inputs_claim['input_ids'], inputs_evi['input_ids'])\n",
    "        return inputs, label\n",
    "    \n",
    "    def collate_fn(self, batch):\n",
    "        inputs, labels = zip(*batch)\n",
    "        input_ids_claim, input_ids_evi = zip(*inputs)\n",
    "        input_ids_claim = torch.stack(input_ids_claim)\n",
    "        input_ids_evi = torch.stack(input_ids_evi)\n",
    "        labels = torch.tensor(labels)\n",
    "        return (input_ids_claim, input_ids_evi), labels\n",
    "    \n",
    "    def get_labels(self):\n",
    "        return [b[1] for b in self.data]\n",
    "    \n",
    "    def get_predictions(self, outputs):\n",
    "        return outputs.logits.sigmoid().round().squeeze().tolist()\n",
    "    \n",
    "    def get_predictions_and_labels(self, outputs):\n",
    "        return self.get_predictions(outputs), self.get_labels()\n",
    "    \n",
    "# get one and show shape\n",
    "\n",
    "if os.path.exists('./data/dataset.pkl'):\n",
    "    dataset = pickle.load(open('./data/dataset.pkl', 'rb'))\n",
    "else:\n",
    "    dataset = EvidenceDataset(train_set, evidence_set, tokenizer)\n",
    "    # save dataset\n",
    "    pickle.dump(dataset, open('./data/dataset.pkl', 'wb'))\n",
    "inputs, label = dataset[0]"
   ]
  },
  {
   "cell_type": "code",
   "execution_count": 11,
   "metadata": {},
   "outputs": [
    {
     "name": "stdout",
     "output_type": "stream",
     "text": [
      "Positive samples: 4122 Negative samples: 4122\n"
     ]
    }
   ],
   "source": [
    "print(f\"Positive samples: {dataset.positive_samples} Negative samples: {dataset.negatives_samples}\")"
   ]
  },
  {
   "cell_type": "code",
   "execution_count": 12,
   "metadata": {},
   "outputs": [
    {
     "data": {
      "text/plain": [
       "(torch.Size([1, 512]), torch.Size([1, 512]), 0)"
      ]
     },
     "execution_count": 12,
     "metadata": {},
     "output_type": "execute_result"
    }
   ],
   "source": [
    "inputs[0].shape, inputs[1].shape, label"
   ]
  },
  {
   "cell_type": "code",
   "execution_count": 13,
   "metadata": {},
   "outputs": [
    {
     "data": {
      "text/plain": [
       "torch.Size([1, 1])"
      ]
     },
     "execution_count": 13,
     "metadata": {},
     "output_type": "execute_result"
    }
   ],
   "source": [
    "class RelevantModel(torch.nn.Module):\n",
    "    def __init__(self):\n",
    "        super().__init__()\n",
    "        self.claim_encoder = torch.nn.TransformerEncoderLayer(d_model=512, nhead=8)\n",
    "        self.evidence_encoder = torch.nn.TransformerEncoderLayer(d_model=512, nhead=8)\n",
    "        self.linear = torch.nn.Linear(1024, 1)\n",
    "\n",
    "    def forward(self, claim_input_ids, evidence_input_ids):\n",
    "        claim_output = self.claim_encoder(claim_input_ids)\n",
    "        evidence_output = self.evidence_encoder(evidence_input_ids)\n",
    "        out_score = self.linear(torch.cat((claim_output, evidence_output), dim=1))\n",
    "        return out_score\n",
    "    \n",
    "# test model\n",
    "\n",
    "model = RelevantModel()\n",
    "outputs = model(inputs[0].float(), inputs[1].float())\n",
    "outputs.shape\n"
   ]
  },
  {
   "cell_type": "code",
   "execution_count": 14,
   "metadata": {},
   "outputs": [
    {
     "name": "stdout",
     "output_type": "stream",
     "text": [
      "Epoch 10/10 - batch 17/17 - loss: 0.65759\r"
     ]
    }
   ],
   "source": [
    "# train model\n",
    "from torch.optim import AdamW\n",
    "from torch.nn import BCEWithLogitsLoss\n",
    "from torch.utils.data import DataLoader\n",
    "\n",
    "EPOCHS = 10\n",
    "BATCH_SIZE = 512\n",
    "DEVICE = \"cuda\" if torch.cuda.is_available() else \"cpu\"\n",
    "\n",
    "model = RelevantModel()\n",
    "model.to(DEVICE)\n",
    "optimizer = AdamW(model.parameters(), lr=5e-5)\n",
    "loss_fn = BCEWithLogitsLoss()\n",
    "\n",
    "train_loader = DataLoader(dataset, batch_size=BATCH_SIZE, shuffle=True, collate_fn=dataset.collate_fn)\n",
    "losses = []\n",
    "for epoch in range(EPOCHS):\n",
    "    model.train()\n",
    "    avg_loss = 0\n",
    "    cnt = 0\n",
    "    for batch in train_loader:\n",
    "        inputs, labels = batch\n",
    "        optimizer.zero_grad()\n",
    "        labels = labels.to(DEVICE)\n",
    "        inputs_claim, inputs_evi = inputs\n",
    "        inputs_claim = inputs_claim.to(DEVICE)\n",
    "        inputs_evi = inputs_evi.to(DEVICE)\n",
    "        inputs_claim = inputs_claim.squeeze().float()\n",
    "        inputs_evi = inputs_evi.squeeze().float()\n",
    "        outputs = model(inputs_claim, inputs_evi)\n",
    "        avg_loss += loss_fn(outputs.squeeze(), labels.float()).item()\n",
    "        loss = loss_fn(outputs.squeeze(), labels.float())\n",
    "        loss.backward()\n",
    "        optimizer.step()\n",
    "        cnt += 1\n",
    "        print(f\"Epoch {epoch+1}/{EPOCHS} - batch {cnt}/{len(train_loader)} - loss: {avg_loss/cnt:.5f}\", end=\"\\r\")\n",
    "    losses.append(avg_loss/cnt)\n"
   ]
  },
  {
   "cell_type": "code",
   "execution_count": 15,
   "metadata": {},
   "outputs": [
    {
     "data": {
      "image/png": "[encoded data removed]",
      "text/plain": [
       "<Figure size 640x480 with 1 Axes>"
      ]
     },
     "metadata": {},
     "output_type": "display_data"
    }
   ],
   "source": [
    "# plot loss\n",
    "import matplotlib.pyplot as plt\n",
    "\n",
    "plt.plot(losses)\n",
    "plt.xlabel(\"Epochs\")\n",
    "plt.ylabel(\"Loss\")\n",
    "plt.title(\"Training Loss\")\n",
    "plt.show()"
   ]
  },
  {
   "cell_type": "code",
   "execution_count": 16,
   "metadata": {},
   "outputs": [
    {
     "name": "stdout",
     "output_type": "stream",
     "text": [
      "[[1998 2124]\n",
      " [ 995 3127]]\n",
      "              precision    recall  f1-score   support\n",
      "\n",
      "           0       0.67      0.48      0.56      4122\n",
      "           1       0.60      0.76      0.67      4122\n",
      "\n",
      "    accuracy                           0.62      8244\n",
      "   macro avg       0.63      0.62      0.61      8244\n",
      "weighted avg       0.63      0.62      0.61      8244\n",
      "\n"
     ]
    }
   ],
   "source": [
    "# confusion matrix\n",
    "from sklearn.metrics import confusion_matrix, classification_report\n",
    "\n",
    "model.eval()\n",
    "predictions = []\n",
    "labels = []\n",
    "\n",
    "for batch in train_loader:\n",
    "    inputs, label = batch\n",
    "    inputs_claim, inputs_evi = inputs\n",
    "    inputs_claim = inputs_claim.to(DEVICE).squeeze().float()\n",
    "    inputs_evi = inputs_evi.to(DEVICE).squeeze().float()\n",
    "    outputs = model(inputs_claim, inputs_evi)\n",
    "    preds = (outputs.sigmoid().round().squeeze().tolist())\n",
    "    predictions += preds\n",
    "    labels += label\n",
    "\n",
    "cm = confusion_matrix(labels, predictions)\n",
    "print(cm)\n",
    "print(classification_report(labels, predictions))"
   ]
  },
  {
   "cell_type": "markdown",
   "metadata": {},
   "source": [
    "### 2. Language Model\n",
    "\n",
    "- Using Mamba to classify the claim_label."
   ]
  },
  {
   "cell_type": "code",
   "execution_count": 17,
   "metadata": {},
   "outputs": [],
   "source": [
    "# define model\n",
    "import torch.nn as nn\n",
    "import torch.nn.functional as F\n",
    "\n",
    "# class SwiGLU(nn.Module):\n",
    "#     def forward(self, x):\n",
    "#         x, gate = x.chunk(2, dim=-1)\n",
    "#         return F.silu(gate) * x\n",
    "\n",
    "# class ClassifierModelSmall(torch.nn.Module):\n",
    "#     def __init__(self):\n",
    "#         super().__init__()\n",
    "#         self.core = nn.Sequential(\n",
    "#             nn.Linear(768, 4096),\n",
    "#             nn.Dropout(0.1),\n",
    "#             SwiGLU(),\n",
    "#             nn.Linear(2048, 768),\n",
    "#             nn.LayerNorm(768)\n",
    "#         )\n",
    "#         self.linear = torch.nn.Linear(768, 4)\n",
    "    \n",
    "#     def forward(self, input_ids):\n",
    "#         input_ids = input_ids.float()\n",
    "#         outputs = self.core(input_ids)\n",
    "#         return self.linear(outputs)\n",
    "    \n",
    "# test_tensor = torch.randint(0, 48051, (2, 768))\n",
    "# model = ClassifierModelSmall()\n",
    "# outputs = model(test_tensor)\n",
    "# total_params = sum(p.numel() for p in model.parameters())/1e6\n",
    "# outputs.shape, total_params"
   ]
  },
  {
   "cell_type": "code",
   "execution_count": 18,
   "metadata": {},
   "outputs": [
    {
     "data": {
      "text/plain": [
       "(torch.Size([2, 4]), 124.442884)"
      ]
     },
     "execution_count": 18,
     "metadata": {},
     "output_type": "execute_result"
    }
   ],
   "source": [
    "# define small bert model\n",
    "class SmallBertModel(torch.nn.Module):\n",
    "    def __init__(self):\n",
    "        super().__init__()\n",
    "        self.bert = GPT2Model.from_pretrained('gpt2')\n",
    "        self.linear = torch.nn.Linear(768, 4)\n",
    "    \n",
    "    def forward(self, input_ids):\n",
    "        outputs = self.bert(input_ids)\n",
    "        return self.linear(outputs.last_hidden_state[:, 0, :])\n",
    "    \n",
    "test_tensor = torch.randint(0, 48051, (2, 768))\n",
    "model = SmallBertModel()\n",
    "outputs = model(test_tensor)\n",
    "total_params = sum(p.numel() for p in model.parameters())/1e6\n",
    "outputs.shape, total_params"
   ]
  },
  {
   "cell_type": "code",
   "execution_count": 19,
   "metadata": {},
   "outputs": [
    {
     "name": "stderr",
     "output_type": "stream",
     "text": [
      "100%|██████████| 1228/1228 [00:00<00:00, 99371.15it/s]"
     ]
    },
    {
     "name": "stderr",
     "output_type": "stream",
     "text": [
      "\n"
     ]
    },
    {
     "ename": "ValueError",
     "evalue": "Asking to pad but the tokenizer does not have a padding token. Please select a token to use as `pad_token` `(tokenizer.pad_token = tokenizer.eos_token e.g.)` or add a new pad token via `tokenizer.add_special_tokens({'pad_token': '[PAD]'})`.",
     "output_type": "error",
     "traceback": [
      "\u001b[0;31m---------------------------------------------------------------------------\u001b[0m",
      "\u001b[0;31mValueError\u001b[0m                                Traceback (most recent call last)",
      "Cell \u001b[0;32mIn[19], line 59\u001b[0m\n\u001b[1;32m     57\u001b[0m \u001b[38;5;66;03m# get one and show shape\u001b[39;00m\n\u001b[1;32m     58\u001b[0m dataset \u001b[38;5;241m=\u001b[39m ClassifierDataset(train_set, evidence_set, tokenizer)\n\u001b[0;32m---> 59\u001b[0m inputs, label \u001b[38;5;241m=\u001b[39m \u001b[43mdataset\u001b[49m\u001b[43m[\u001b[49m\u001b[38;5;241;43m0\u001b[39;49m\u001b[43m]\u001b[49m\n\u001b[1;32m     60\u001b[0m \u001b[38;5;28mprint\u001b[39m(\u001b[38;5;124mf\u001b[39m\u001b[38;5;124m\"\u001b[39m\u001b[38;5;124mSupports: \u001b[39m\u001b[38;5;132;01m{\u001b[39;00mdataset\u001b[38;5;241m.\u001b[39mlabels_count[\u001b[38;5;124m'\u001b[39m\u001b[38;5;124mSUPPORTS\u001b[39m\u001b[38;5;124m'\u001b[39m]\u001b[38;5;132;01m}\u001b[39;00m\u001b[38;5;124m Refutes: \u001b[39m\u001b[38;5;132;01m{\u001b[39;00mdataset\u001b[38;5;241m.\u001b[39mlabels_count[\u001b[38;5;124m'\u001b[39m\u001b[38;5;124mREFUTES\u001b[39m\u001b[38;5;124m'\u001b[39m]\u001b[38;5;132;01m}\u001b[39;00m\u001b[38;5;124m Not enough info: \u001b[39m\u001b[38;5;132;01m{\u001b[39;00mdataset\u001b[38;5;241m.\u001b[39mlabels_count[\u001b[38;5;124m'\u001b[39m\u001b[38;5;124mNOT_ENOUGH_INFO\u001b[39m\u001b[38;5;124m'\u001b[39m]\u001b[38;5;132;01m}\u001b[39;00m\u001b[38;5;124m Disputed: \u001b[39m\u001b[38;5;132;01m{\u001b[39;00mdataset\u001b[38;5;241m.\u001b[39mlabels_count[\u001b[38;5;124m'\u001b[39m\u001b[38;5;124mDISPUTED\u001b[39m\u001b[38;5;124m'\u001b[39m]\u001b[38;5;132;01m}\u001b[39;00m\u001b[38;5;124m\"\u001b[39m)\n\u001b[1;32m     61\u001b[0m inputs[\u001b[38;5;124m'\u001b[39m\u001b[38;5;124minput_ids\u001b[39m\u001b[38;5;124m'\u001b[39m]\u001b[38;5;241m.\u001b[39mshape, label\n",
      "Cell \u001b[0;32mIn[19], line 31\u001b[0m, in \u001b[0;36mClassifierDataset.__getitem__\u001b[0;34m(self, idx)\u001b[0m\n\u001b[1;32m     29\u001b[0m \u001b[38;5;28;01mdef\u001b[39;00m \u001b[38;5;21m__getitem__\u001b[39m(\u001b[38;5;28mself\u001b[39m, idx):\n\u001b[1;32m     30\u001b[0m     claim, evidence, label \u001b[38;5;241m=\u001b[39m \u001b[38;5;28mself\u001b[39m\u001b[38;5;241m.\u001b[39mdata[idx]\n\u001b[0;32m---> 31\u001b[0m     inputs \u001b[38;5;241m=\u001b[39m \u001b[38;5;28;43mself\u001b[39;49m\u001b[38;5;241;43m.\u001b[39;49m\u001b[43mtokenizer\u001b[49m\u001b[43m(\u001b[49m\u001b[43mclaim\u001b[49m\u001b[43m,\u001b[49m\u001b[43m \u001b[49m\u001b[43mevidence\u001b[49m\u001b[43m,\u001b[49m\u001b[43m \u001b[49m\u001b[43mmax_length\u001b[49m\u001b[38;5;241;43m=\u001b[39;49m\u001b[38;5;28;43mself\u001b[39;49m\u001b[38;5;241;43m.\u001b[39;49m\u001b[43mmax_length\u001b[49m\u001b[43m,\u001b[49m\u001b[43m \u001b[49m\u001b[43mpadding\u001b[49m\u001b[38;5;241;43m=\u001b[39;49m\u001b[38;5;124;43m\"\u001b[39;49m\u001b[38;5;124;43mmax_length\u001b[39;49m\u001b[38;5;124;43m\"\u001b[39;49m\u001b[43m,\u001b[49m\u001b[43m \u001b[49m\u001b[43mtruncation\u001b[49m\u001b[38;5;241;43m=\u001b[39;49m\u001b[38;5;28;43;01mTrue\u001b[39;49;00m\u001b[43m,\u001b[49m\u001b[43m \u001b[49m\u001b[43mreturn_tensors\u001b[49m\u001b[38;5;241;43m=\u001b[39;49m\u001b[38;5;124;43m\"\u001b[39;49m\u001b[38;5;124;43mpt\u001b[39;49m\u001b[38;5;124;43m\"\u001b[39;49m\u001b[43m)\u001b[49m\n\u001b[1;32m     32\u001b[0m     temp_max_token \u001b[38;5;241m=\u001b[39m torch\u001b[38;5;241m.\u001b[39mmax(inputs[\u001b[38;5;124m'\u001b[39m\u001b[38;5;124minput_ids\u001b[39m\u001b[38;5;124m'\u001b[39m])\n\u001b[1;32m     33\u001b[0m     \u001b[38;5;28;01mif\u001b[39;00m temp_max_token \u001b[38;5;241m>\u001b[39m \u001b[38;5;28mself\u001b[39m\u001b[38;5;241m.\u001b[39mmax_token:\n",
      "File \u001b[0;32m~/.local/lib/python3.12/site-packages/transformers/tokenization_utils_base.py:3055\u001b[0m, in \u001b[0;36mPreTrainedTokenizerBase.__call__\u001b[0;34m(self, text, text_pair, text_target, text_pair_target, add_special_tokens, padding, truncation, max_length, stride, is_split_into_words, pad_to_multiple_of, return_tensors, return_token_type_ids, return_attention_mask, return_overflowing_tokens, return_special_tokens_mask, return_offsets_mapping, return_length, verbose, **kwargs)\u001b[0m\n\u001b[1;32m   3053\u001b[0m     \u001b[38;5;28;01mif\u001b[39;00m \u001b[38;5;129;01mnot\u001b[39;00m \u001b[38;5;28mself\u001b[39m\u001b[38;5;241m.\u001b[39m_in_target_context_manager:\n\u001b[1;32m   3054\u001b[0m         \u001b[38;5;28mself\u001b[39m\u001b[38;5;241m.\u001b[39m_switch_to_input_mode()\n\u001b[0;32m-> 3055\u001b[0m     encodings \u001b[38;5;241m=\u001b[39m \u001b[38;5;28;43mself\u001b[39;49m\u001b[38;5;241;43m.\u001b[39;49m\u001b[43m_call_one\u001b[49m\u001b[43m(\u001b[49m\u001b[43mtext\u001b[49m\u001b[38;5;241;43m=\u001b[39;49m\u001b[43mtext\u001b[49m\u001b[43m,\u001b[49m\u001b[43m \u001b[49m\u001b[43mtext_pair\u001b[49m\u001b[38;5;241;43m=\u001b[39;49m\u001b[43mtext_pair\u001b[49m\u001b[43m,\u001b[49m\u001b[43m \u001b[49m\u001b[38;5;241;43m*\u001b[39;49m\u001b[38;5;241;43m*\u001b[39;49m\u001b[43mall_kwargs\u001b[49m\u001b[43m)\u001b[49m\n\u001b[1;32m   3056\u001b[0m \u001b[38;5;28;01mif\u001b[39;00m text_target \u001b[38;5;129;01mis\u001b[39;00m \u001b[38;5;129;01mnot\u001b[39;00m \u001b[38;5;28;01mNone\u001b[39;00m:\n\u001b[1;32m   3057\u001b[0m     \u001b[38;5;28mself\u001b[39m\u001b[38;5;241m.\u001b[39m_switch_to_target_mode()\n",
      "File \u001b[0;32m~/.local/lib/python3.12/site-packages/transformers/tokenization_utils_base.py:3163\u001b[0m, in \u001b[0;36mPreTrainedTokenizerBase._call_one\u001b[0;34m(self, text, text_pair, add_special_tokens, padding, truncation, max_length, stride, is_split_into_words, pad_to_multiple_of, return_tensors, return_token_type_ids, return_attention_mask, return_overflowing_tokens, return_special_tokens_mask, return_offsets_mapping, return_length, verbose, split_special_tokens, **kwargs)\u001b[0m\n\u001b[1;32m   3142\u001b[0m     \u001b[38;5;28;01mreturn\u001b[39;00m \u001b[38;5;28mself\u001b[39m\u001b[38;5;241m.\u001b[39mbatch_encode_plus(\n\u001b[1;32m   3143\u001b[0m         batch_text_or_text_pairs\u001b[38;5;241m=\u001b[39mbatch_text_or_text_pairs,\n\u001b[1;32m   3144\u001b[0m         add_special_tokens\u001b[38;5;241m=\u001b[39madd_special_tokens,\n\u001b[0;32m   (...)\u001b[0m\n\u001b[1;32m   3160\u001b[0m         \u001b[38;5;241m*\u001b[39m\u001b[38;5;241m*\u001b[39mkwargs,\n\u001b[1;32m   3161\u001b[0m     )\n\u001b[1;32m   3162\u001b[0m \u001b[38;5;28;01melse\u001b[39;00m:\n\u001b[0;32m-> 3163\u001b[0m     \u001b[38;5;28;01mreturn\u001b[39;00m \u001b[38;5;28;43mself\u001b[39;49m\u001b[38;5;241;43m.\u001b[39;49m\u001b[43mencode_plus\u001b[49m\u001b[43m(\u001b[49m\n\u001b[1;32m   3164\u001b[0m \u001b[43m        \u001b[49m\u001b[43mtext\u001b[49m\u001b[38;5;241;43m=\u001b[39;49m\u001b[43mtext\u001b[49m\u001b[43m,\u001b[49m\n\u001b[1;32m   3165\u001b[0m \u001b[43m        \u001b[49m\u001b[43mtext_pair\u001b[49m\u001b[38;5;241;43m=\u001b[39;49m\u001b[43mtext_pair\u001b[49m\u001b[43m,\u001b[49m\n\u001b[1;32m   3166\u001b[0m \u001b[43m        \u001b[49m\u001b[43madd_special_tokens\u001b[49m\u001b[38;5;241;43m=\u001b[39;49m\u001b[43madd_special_tokens\u001b[49m\u001b[43m,\u001b[49m\n\u001b[1;32m   3167\u001b[0m \u001b[43m        \u001b[49m\u001b[43mpadding\u001b[49m\u001b[38;5;241;43m=\u001b[39;49m\u001b[43mpadding\u001b[49m\u001b[43m,\u001b[49m\n\u001b[1;32m   3168\u001b[0m \u001b[43m        \u001b[49m\u001b[43mtruncation\u001b[49m\u001b[38;5;241;43m=\u001b[39;49m\u001b[43mtruncation\u001b[49m\u001b[43m,\u001b[49m\n\u001b[1;32m   3169\u001b[0m \u001b[43m        \u001b[49m\u001b[43mmax_length\u001b[49m\u001b[38;5;241;43m=\u001b[39;49m\u001b[43mmax_length\u001b[49m\u001b[43m,\u001b[49m\n\u001b[1;32m   3170\u001b[0m \u001b[43m        \u001b[49m\u001b[43mstride\u001b[49m\u001b[38;5;241;43m=\u001b[39;49m\u001b[43mstride\u001b[49m\u001b[43m,\u001b[49m\n\u001b[1;32m   3171\u001b[0m \u001b[43m        \u001b[49m\u001b[43mis_split_into_words\u001b[49m\u001b[38;5;241;43m=\u001b[39;49m\u001b[43mis_split_into_words\u001b[49m\u001b[43m,\u001b[49m\n\u001b[1;32m   3172\u001b[0m \u001b[43m        \u001b[49m\u001b[43mpad_to_multiple_of\u001b[49m\u001b[38;5;241;43m=\u001b[39;49m\u001b[43mpad_to_multiple_of\u001b[49m\u001b[43m,\u001b[49m\n\u001b[1;32m   3173\u001b[0m \u001b[43m        \u001b[49m\u001b[43mreturn_tensors\u001b[49m\u001b[38;5;241;43m=\u001b[39;49m\u001b[43mreturn_tensors\u001b[49m\u001b[43m,\u001b[49m\n\u001b[1;32m   3174\u001b[0m \u001b[43m        \u001b[49m\u001b[43mreturn_token_type_ids\u001b[49m\u001b[38;5;241;43m=\u001b[39;49m\u001b[43mreturn_token_type_ids\u001b[49m\u001b[43m,\u001b[49m\n\u001b[1;32m   3175\u001b[0m \u001b[43m        \u001b[49m\u001b[43mreturn_attention_mask\u001b[49m\u001b[38;5;241;43m=\u001b[39;49m\u001b[43mreturn_attention_mask\u001b[49m\u001b[43m,\u001b[49m\n\u001b[1;32m   3176\u001b[0m \u001b[43m        \u001b[49m\u001b[43mreturn_overflowing_tokens\u001b[49m\u001b[38;5;241;43m=\u001b[39;49m\u001b[43mreturn_overflowing_tokens\u001b[49m\u001b[43m,\u001b[49m\n\u001b[1;32m   3177\u001b[0m \u001b[43m        \u001b[49m\u001b[43mreturn_special_tokens_mask\u001b[49m\u001b[38;5;241;43m=\u001b[39;49m\u001b[43mreturn_special_tokens_mask\u001b[49m\u001b[43m,\u001b[49m\n\u001b[1;32m   3178\u001b[0m \u001b[43m        \u001b[49m\u001b[43mreturn_offsets_mapping\u001b[49m\u001b[38;5;241;43m=\u001b[39;49m\u001b[43mreturn_offsets_mapping\u001b[49m\u001b[43m,\u001b[49m\n\u001b[1;32m   3179\u001b[0m \u001b[43m        \u001b[49m\u001b[43mreturn_length\u001b[49m\u001b[38;5;241;43m=\u001b[39;49m\u001b[43mreturn_length\u001b[49m\u001b[43m,\u001b[49m\n\u001b[1;32m   3180\u001b[0m \u001b[43m        \u001b[49m\u001b[43mverbose\u001b[49m\u001b[38;5;241;43m=\u001b[39;49m\u001b[43mverbose\u001b[49m\u001b[43m,\u001b[49m\n\u001b[1;32m   3181\u001b[0m \u001b[43m        \u001b[49m\u001b[43msplit_special_tokens\u001b[49m\u001b[38;5;241;43m=\u001b[39;49m\u001b[43msplit_special_tokens\u001b[49m\u001b[43m,\u001b[49m\n\u001b[1;32m   3182\u001b[0m \u001b[43m        \u001b[49m\u001b[38;5;241;43m*\u001b[39;49m\u001b[38;5;241;43m*\u001b[39;49m\u001b[43mkwargs\u001b[49m\u001b[43m,\u001b[49m\n\u001b[1;32m   3183\u001b[0m \u001b[43m    \u001b[49m\u001b[43m)\u001b[49m\n",
      "File \u001b[0;32m~/.local/lib/python3.12/site-packages/transformers/tokenization_utils_base.py:3228\u001b[0m, in \u001b[0;36mPreTrainedTokenizerBase.encode_plus\u001b[0;34m(self, text, text_pair, add_special_tokens, padding, truncation, max_length, stride, is_split_into_words, pad_to_multiple_of, return_tensors, return_token_type_ids, return_attention_mask, return_overflowing_tokens, return_special_tokens_mask, return_offsets_mapping, return_length, verbose, **kwargs)\u001b[0m\n\u001b[1;32m   3207\u001b[0m \u001b[38;5;250m\u001b[39m\u001b[38;5;124;03m\"\"\"\u001b[39;00m\n\u001b[1;32m   3208\u001b[0m \u001b[38;5;124;03mTokenize and prepare for the model a sequence or a pair of sequences.\u001b[39;00m\n\u001b[1;32m   3209\u001b[0m \n\u001b[0;32m   (...)\u001b[0m\n\u001b[1;32m   3224\u001b[0m \u001b[38;5;124;03m        method).\u001b[39;00m\n\u001b[1;32m   3225\u001b[0m \u001b[38;5;124;03m\"\"\"\u001b[39;00m\n\u001b[1;32m   3227\u001b[0m \u001b[38;5;66;03m# Backward compatibility for 'truncation_strategy', 'pad_to_max_length'\u001b[39;00m\n\u001b[0;32m-> 3228\u001b[0m padding_strategy, truncation_strategy, max_length, kwargs \u001b[38;5;241m=\u001b[39m \u001b[38;5;28;43mself\u001b[39;49m\u001b[38;5;241;43m.\u001b[39;49m\u001b[43m_get_padding_truncation_strategies\u001b[49m\u001b[43m(\u001b[49m\n\u001b[1;32m   3229\u001b[0m \u001b[43m    \u001b[49m\u001b[43mpadding\u001b[49m\u001b[38;5;241;43m=\u001b[39;49m\u001b[43mpadding\u001b[49m\u001b[43m,\u001b[49m\n\u001b[1;32m   3230\u001b[0m \u001b[43m    \u001b[49m\u001b[43mtruncation\u001b[49m\u001b[38;5;241;43m=\u001b[39;49m\u001b[43mtruncation\u001b[49m\u001b[43m,\u001b[49m\n\u001b[1;32m   3231\u001b[0m \u001b[43m    \u001b[49m\u001b[43mmax_length\u001b[49m\u001b[38;5;241;43m=\u001b[39;49m\u001b[43mmax_length\u001b[49m\u001b[43m,\u001b[49m\n\u001b[1;32m   3232\u001b[0m \u001b[43m    \u001b[49m\u001b[43mpad_to_multiple_of\u001b[49m\u001b[38;5;241;43m=\u001b[39;49m\u001b[43mpad_to_multiple_of\u001b[49m\u001b[43m,\u001b[49m\n\u001b[1;32m   3233\u001b[0m \u001b[43m    \u001b[49m\u001b[43mverbose\u001b[49m\u001b[38;5;241;43m=\u001b[39;49m\u001b[43mverbose\u001b[49m\u001b[43m,\u001b[49m\n\u001b[1;32m   3234\u001b[0m \u001b[43m    \u001b[49m\u001b[38;5;241;43m*\u001b[39;49m\u001b[38;5;241;43m*\u001b[39;49m\u001b[43mkwargs\u001b[49m\u001b[43m,\u001b[49m\n\u001b[1;32m   3235\u001b[0m \u001b[43m\u001b[49m\u001b[43m)\u001b[49m\n\u001b[1;32m   3237\u001b[0m \u001b[38;5;28;01mreturn\u001b[39;00m \u001b[38;5;28mself\u001b[39m\u001b[38;5;241m.\u001b[39m_encode_plus(\n\u001b[1;32m   3238\u001b[0m     text\u001b[38;5;241m=\u001b[39mtext,\n\u001b[1;32m   3239\u001b[0m     text_pair\u001b[38;5;241m=\u001b[39mtext_pair,\n\u001b[0;32m   (...)\u001b[0m\n\u001b[1;32m   3256\u001b[0m     \u001b[38;5;241m*\u001b[39m\u001b[38;5;241m*\u001b[39mkwargs,\n\u001b[1;32m   3257\u001b[0m )\n",
      "File \u001b[0;32m~/.local/lib/python3.12/site-packages/transformers/tokenization_utils_base.py:2959\u001b[0m, in \u001b[0;36mPreTrainedTokenizerBase._get_padding_truncation_strategies\u001b[0;34m(self, padding, truncation, max_length, pad_to_multiple_of, verbose, **kwargs)\u001b[0m\n\u001b[1;32m   2957\u001b[0m \u001b[38;5;66;03m# Test if we have a padding token\u001b[39;00m\n\u001b[1;32m   2958\u001b[0m \u001b[38;5;28;01mif\u001b[39;00m padding_strategy \u001b[38;5;241m!=\u001b[39m PaddingStrategy\u001b[38;5;241m.\u001b[39mDO_NOT_PAD \u001b[38;5;129;01mand\u001b[39;00m (\u001b[38;5;28mself\u001b[39m\u001b[38;5;241m.\u001b[39mpad_token \u001b[38;5;129;01mis\u001b[39;00m \u001b[38;5;28;01mNone\u001b[39;00m \u001b[38;5;129;01mor\u001b[39;00m \u001b[38;5;28mself\u001b[39m\u001b[38;5;241m.\u001b[39mpad_token_id \u001b[38;5;241m<\u001b[39m \u001b[38;5;241m0\u001b[39m):\n\u001b[0;32m-> 2959\u001b[0m     \u001b[38;5;28;01mraise\u001b[39;00m \u001b[38;5;167;01mValueError\u001b[39;00m(\n\u001b[1;32m   2960\u001b[0m         \u001b[38;5;124m\"\u001b[39m\u001b[38;5;124mAsking to pad but the tokenizer does not have a padding token. \u001b[39m\u001b[38;5;124m\"\u001b[39m\n\u001b[1;32m   2961\u001b[0m         \u001b[38;5;124m\"\u001b[39m\u001b[38;5;124mPlease select a token to use as `pad_token` `(tokenizer.pad_token = tokenizer.eos_token e.g.)` \u001b[39m\u001b[38;5;124m\"\u001b[39m\n\u001b[1;32m   2962\u001b[0m         \u001b[38;5;124m\"\u001b[39m\u001b[38;5;124mor add a new pad token via `tokenizer.add_special_tokens(\u001b[39m\u001b[38;5;124m{\u001b[39m\u001b[38;5;124m'\u001b[39m\u001b[38;5;124mpad_token\u001b[39m\u001b[38;5;124m'\u001b[39m\u001b[38;5;124m: \u001b[39m\u001b[38;5;124m'\u001b[39m\u001b[38;5;124m[PAD]\u001b[39m\u001b[38;5;124m'\u001b[39m\u001b[38;5;124m})`.\u001b[39m\u001b[38;5;124m\"\u001b[39m\n\u001b[1;32m   2963\u001b[0m     )\n\u001b[1;32m   2965\u001b[0m \u001b[38;5;66;03m# Check that we will truncate to a multiple of pad_to_multiple_of if both are provided\u001b[39;00m\n\u001b[1;32m   2966\u001b[0m \u001b[38;5;28;01mif\u001b[39;00m (\n\u001b[1;32m   2967\u001b[0m     truncation_strategy \u001b[38;5;241m!=\u001b[39m TruncationStrategy\u001b[38;5;241m.\u001b[39mDO_NOT_TRUNCATE\n\u001b[1;32m   2968\u001b[0m     \u001b[38;5;129;01mand\u001b[39;00m padding_strategy \u001b[38;5;241m!=\u001b[39m PaddingStrategy\u001b[38;5;241m.\u001b[39mDO_NOT_PAD\n\u001b[0;32m   (...)\u001b[0m\n\u001b[1;32m   2971\u001b[0m     \u001b[38;5;129;01mand\u001b[39;00m (max_length \u001b[38;5;241m%\u001b[39m pad_to_multiple_of \u001b[38;5;241m!=\u001b[39m \u001b[38;5;241m0\u001b[39m)\n\u001b[1;32m   2972\u001b[0m ):\n",
      "\u001b[0;31mValueError\u001b[0m: Asking to pad but the tokenizer does not have a padding token. Please select a token to use as `pad_token` `(tokenizer.pad_token = tokenizer.eos_token e.g.)` or add a new pad token via `tokenizer.add_special_tokens({'pad_token': '[PAD]'})`."
     ]
    }
   ],
   "source": [
    "# make dataset (input: claim+evidence, output: label)\n",
    "class ClassifierDataset(Dataset):\n",
    "    def __init__(self, claim_set: Dict[str, str], evidence_set: Dict[str, str], tokenizer, max_length=768):\n",
    "        self.claim_set = claim_set\n",
    "        self.evidence_set = evidence_set\n",
    "        self.tokenizer = tokenizer\n",
    "        self.max_length = max_length\n",
    "        self.claim_keys = list(claim_set.keys())\n",
    "        self.evidence_keys = list(evidence_set.keys())\n",
    "        self.data = []\n",
    "        self.max_token = 0\n",
    "        # - claim_label: {SUPPORTS, REFUTES, NOT ENOUGH INFO, DISPUTED}\n",
    "        self.labels_map = {\"SUPPORTS\": 0, \"REFUTES\": 1, \"NOT_ENOUGH_INFO\": 2, \"DISPUTED\": 3}\n",
    "        self.labels_count = {\"SUPPORTS\": 0, \"REFUTES\": 0, \"NOT_ENOUGH_INFO\": 0, \"DISPUTED\": 0}\n",
    "        for claim_key in tqdm.tqdm(self.claim_keys):\n",
    "            claim = claim_set[claim_key]\n",
    "            evidence_list = claim['evidences']\n",
    "            temp_evidence = []\n",
    "            for evidence_key in evidence_list:\n",
    "                temp_evidence.append(evidence_set[evidence_key])\n",
    "            temp_evidence = \" \".join(temp_evidence)\n",
    "            self.data.append((claim['claim_text'], temp_evidence, self.labels_map[claim['claim_label']]))\n",
    "            self.labels_count[claim['claim_label']] += 1\n",
    "        random.shuffle(self.data)\n",
    "\n",
    "    def __len__(self):\n",
    "        return len(self.data)\n",
    "    \n",
    "    def __getitem__(self, idx):\n",
    "        claim, evidence, label = self.data[idx]\n",
    "        inputs = self.tokenizer(claim, evidence, max_length=self.max_length, padding=\"max_length\", truncation=True, return_tensors=\"pt\")\n",
    "        temp_max_token = torch.max(inputs['input_ids'])\n",
    "        if temp_max_token > self.max_token:\n",
    "            self.max_token = temp_max_token\n",
    "        # label to one-hot\n",
    "        label = torch.nn.functional.one_hot(torch.tensor(label), num_classes=4)\n",
    "        # convert to np array\n",
    "        label = label.numpy()\n",
    "        return inputs, label\n",
    "    \n",
    "    def collate_fn(self, batch):\n",
    "        inputs, labels = zip(*batch)\n",
    "        input_ids = [i['input_ids'] for i in inputs]\n",
    "        input_ids = torch.stack(input_ids)\n",
    "        labels = torch.tensor(labels)\n",
    "        return input_ids, labels\n",
    "    \n",
    "    def get_labels(self):\n",
    "        return [b[1] for b in self.data]\n",
    "    \n",
    "    def get_predictions(self, outputs):\n",
    "        return outputs.logits.argmax(dim=1).squeeze().tolist()\n",
    "    \n",
    "    def get_predictions_and_labels(self, outputs):\n",
    "        return self.get_predictions(outputs), self.get_labels()\n",
    "    \n",
    "# get one and show shape\n",
    "dataset = ClassifierDataset(train_set, evidence_set, tokenizer)\n",
    "inputs, label = dataset[0]\n",
    "print(f\"Supports: {dataset.labels_count['SUPPORTS']} Refutes: {dataset.labels_count['REFUTES']} Not enough info: {dataset.labels_count['NOT_ENOUGH_INFO']} Disputed: {dataset.labels_count['DISPUTED']}\")\n",
    "inputs['input_ids'].shape, label"
   ]
  },
  {
   "cell_type": "code",
   "execution_count": null,
   "metadata": {},
   "outputs": [
    {
     "data": {
      "text/plain": [
       "(tensor(46023), 768)"
      ]
     },
     "execution_count": 20,
     "metadata": {},
     "output_type": "execute_result"
    }
   ],
   "source": [
    "dataset.max_token , dataset.max_length"
   ]
  },
  {
   "cell_type": "code",
   "execution_count": null,
   "metadata": {},
   "outputs": [
    {
     "name": "stderr",
     "output_type": "stream",
     "text": [
      "/tmp/ipykernel_290706/2645981716.py:45: UserWarning: Creating a tensor from a list of numpy.ndarrays is extremely slow. Please consider converting the list to a single numpy.ndarray with numpy.array() before converting to a tensor. (Triggered internally at ../torch/csrc/utils/tensor_new.cpp:274.)\n",
      "  labels = torch.tensor(labels)\n"
     ]
    },
    {
     "name": "stdout",
     "output_type": "stream",
     "text": [
      "Epoch 1/10 - batch 1/614 - loss: 1.49975                                              \r"
     ]
    }
   ],
   "source": [
    "# clearup cuda memory\n",
    "torch.cuda.empty_cache()\n",
    "# train model\n",
    "EPOCHS = 10\n",
    "BATCH_SIZE = 2\n",
    "DEVICE = \"cuda\" if torch.cuda.is_available() else \"cpu\"\n",
    "\n",
    "model = SmallBertModel()\n",
    "model.to(DEVICE)\n",
    "optimizer = AdamW(model.parameters(), lr=4e-5)\n",
    "loss_fn = torch.nn.CrossEntropyLoss()\n",
    "\n",
    "train_loader = DataLoader(dataset, batch_size=BATCH_SIZE, shuffle=True, collate_fn=dataset.collate_fn)\n",
    "losses = []\n",
    "for epoch in range(EPOCHS):\n",
    "    model.train()\n",
    "    avg_loss = 0\n",
    "    cnt = 0\n",
    "    for batch in train_loader:\n",
    "        inputs, labels = batch\n",
    "        optimizer.zero_grad()\n",
    "        labels = labels.to(DEVICE)\n",
    "        labels = labels.float()\n",
    "        inputs = inputs.to(DEVICE)\n",
    "        inputs = inputs.squeeze(1)  # Ensure the correct dimensions\n",
    "        outputs = model(inputs)\n",
    "        avg_loss += loss_fn(outputs, labels).item()\n",
    "        loss = loss_fn(outputs, labels)\n",
    "        loss.backward()\n",
    "        optimizer.step()\n",
    "        cnt += 1\n",
    "        print(\"                                                                                      \", end=\"\\r\")\n",
    "        print(f\"Epoch {epoch+1}/{EPOCHS} - batch {cnt}/{len(train_loader)} - loss: {avg_loss/cnt:.5f}\", end=\"\\r\")\n",
    "    losses.append(avg_loss/cnt)"
   ]
  },
  {
   "cell_type": "code",
   "execution_count": null,
   "metadata": {},
   "outputs": [],
   "source": [
    "# plot loss\n",
    "plt.plot(losses)\n",
    "plt.xlabel(\"Epochs\")\n",
    "plt.ylabel(\"Loss\")\n",
    "plt.title(\"Training Loss\")\n",
    "plt.show()"
   ]
  },
  {
   "cell_type": "code",
   "execution_count": null,
   "metadata": {},
   "outputs": [],
   "source": [
    "# confusion matrix\n",
    "model.eval()\n",
    "predictions = []\n",
    "labels = []\n",
    "\n",
    "for batch in train_loader:\n",
    "    inputs, label = batch\n",
    "    inputs = inputs.to(DEVICE)\n",
    "    outputs = model(inputs)\n",
    "    preds = (outputs.argmax(dim=2).squeeze().tolist())\n",
    "    predictions += preds\n",
    "    label = label.argmax(dim=1).squeeze().tolist()\n",
    "    labels += label"
   ]
  },
  {
   "cell_type": "code",
   "execution_count": null,
   "metadata": {},
   "outputs": [],
   "source": [
    "cm = confusion_matrix(labels, predictions)\n",
    "print(cm)\n",
    "print(classification_report(labels, predictions))"
   ]
  }
 ],
 "metadata": {
  "kernelspec": {
   "display_name": "Python 3",
   "language": "python",
   "name": "python3"
  },
  "language_info": {
   "codemirror_mode": {
    "name": "ipython",
    "version": 3
   },
   "file_extension": ".py",
   "mimetype": "text/x-python",
   "name": "python",
   "nbconvert_exporter": "python",
   "pygments_lexer": "ipython3",
   "version": "3.12.3"
  }
 },
 "nbformat": 4,
 "nbformat_minor": 2
}
